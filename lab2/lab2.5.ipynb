{
 "cells": [
  {
   "cell_type": "code",
   "execution_count": 1,
   "id": "3a715e64",
   "metadata": {},
   "outputs": [],
   "source": [
    "import numpy as np\n",
    "import math\n",
    "import matplotlib.pyplot as plt\n",
    "from sympy import symbols, cos, sin\n",
    "from sympy.plotting import plot_parametric\n",
    "from math import sin,cos\n",
    "import io\n",
    "import cv2\n",
    "import pykalman\n",
    "from scipy import optimize\n",
    "import matplotlib as mpl\n",
    "from numpy import array, arange, abs as np_abs\n",
    "from numpy.fft import rfft, rfftfreq\n",
    "from math import sin, pi\n",
    "import matplotlib.pyplot as plt\n",
    "import matplotlib as mpl\n",
    "from scipy.io import wavfile"
   ]
  },
  {
   "cell_type": "markdown",
   "id": "b1dc3382",
   "metadata": {},
   "source": [
    "# Лабораторная работа 2.5 \n",
    "В файле ’tune.wav’ записана мелодия, искаженная помехой. Выполнена фильтрация."
   ]
  },
  {
   "cell_type": "code",
   "execution_count": 2,
   "id": "8223d12d",
   "metadata": {},
   "outputs": [
    {
     "name": "stdout",
     "output_type": "stream",
     "text": [
      "44100\n",
      "[     0  27652 -29673 ...  23172  14248 -30478]\n"
     ]
    }
   ],
   "source": [
    "Fs, data = wavfile.read('./tune.wav')\n",
    "print(Fs)\n",
    "print(data)"
   ]
  },
  {
   "cell_type": "code",
   "execution_count": 3,
   "id": "7c6013a8",
   "metadata": {},
   "outputs": [
    {
     "data": {
      "text/plain": [
       "[<matplotlib.lines.Line2D at 0x7f9221ba6df0>]"
      ]
     },
     "execution_count": 3,
     "metadata": {},
     "output_type": "execute_result"
    },
    {
     "data": {
      "image/png": "[encoded data removed]",
      "text/plain": [
       "<Figure size 432x288 with 1 Axes>"
      ]
     },
     "metadata": {
      "needs_background": "light"
     },
     "output_type": "display_data"
    }
   ],
   "source": [
    "ft = np.fft.fft(data)\n",
    "freqs = np.fft.fftfreq(len(ft), d=1/Fs)\n",
    "plt.figure(1)\n",
    "plt.xlim(-2000, 2000)\n",
    "plt.plot(freqs, abs(ft))"
   ]
  },
  {
   "cell_type": "code",
   "execution_count": 14,
   "id": "3309f5ab",
   "metadata": {},
   "outputs": [
    {
     "data": {
      "text/plain": [
       "[<matplotlib.lines.Line2D at 0x7f921d63fca0>]"
      ]
     },
     "execution_count": 14,
     "metadata": {},
     "output_type": "execute_result"
    },
    {
     "data": {
      "image/png": "[encoded data removed]",
      "text/plain": [
       "<Figure size 432x288 with 1 Axes>"
      ]
     },
     "metadata": {
      "needs_background": "light"
     },
     "output_type": "display_data"
    }
   ],
   "source": [
    "# сцепиально подобранная константа\n",
    "fltr = 1400\n",
    "fltr_ft = []\n",
    "for i in range(len(ft)):\n",
    "    if abs(freqs[i]) > fltr:\n",
    "        fltr_ft.append(0)\n",
    "    else:\n",
    "        fltr_ft.append(ft[i])\n",
    "plt.figure(1)\n",
    "plt.xlim(-1500, 1500)\n",
    "plt.plot(freqs, np.array(np.abs(fltr_ft)))"
   ]
  },
  {
   "cell_type": "code",
   "execution_count": 15,
   "id": "4ed68f8f",
   "metadata": {},
   "outputs": [],
   "source": [
    "data2 = np.fft.ifft(fltr_ft)\n",
    "data_ans = []\n",
    "for i in data2:\n",
    "    data_ans.append(np.int16(i.real))\n",
    "wavfile.write('./tune_filt.wav', Fs, np.int16(data_ans))"
   ]
  },
  {
   "cell_type": "code",
   "execution_count": null,
   "id": "ef932bc8",
   "metadata": {},
   "outputs": [],
   "source": []
  },
  {
   "cell_type": "code",
   "execution_count": null,
   "id": "63c392d7",
   "metadata": {},
   "outputs": [],
   "source": []
  },
  {
   "cell_type": "code",
   "execution_count": null,
   "id": "988c00da",
   "metadata": {},
   "outputs": [],
   "source": []
  },
  {
   "cell_type": "code",
   "execution_count": null,
   "id": "717b4e7a",
   "metadata": {},
   "outputs": [],
   "source": []
  },
  {
   "cell_type": "code",
   "execution_count": null,
   "id": "d2bcec98",
   "metadata": {},
   "outputs": [],
   "source": []
  }
 ],
 "metadata": {
  "kernelspec": {
   "display_name": "Python 3 (ipykernel)",
   "language": "python",
   "name": "python3"
  },
  "language_info": {
   "codemirror_mode": {
    "name": "ipython",
    "version": 3
   },
   "file_extension": ".py",
   "mimetype": "text/x-python",
   "name": "python",
   "nbconvert_exporter": "python",
   "pygments_lexer": "ipython3",
   "version": "3.8.10"
  }
 },
 "nbformat": 4,
 "nbformat_minor": 5
}
