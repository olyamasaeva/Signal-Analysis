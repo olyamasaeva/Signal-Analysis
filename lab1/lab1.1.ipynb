{
 "cells": [
  {
   "cell_type": "code",
   "execution_count": 1,
   "id": "99bbaa7d",
   "metadata": {},
   "outputs": [],
   "source": [
    "import numpy as np\n",
    "import math\n",
    "import matplotlib.pyplot as plt\n",
    "from sympy import symbols, cos, sin\n",
    "from sympy.plotting import plot_parametric\n",
    "from math import sin,cos\n",
    "import random"
   ]
  },
  {
   "cell_type": "markdown",
   "id": "73e974e3",
   "metadata": {},
   "source": [
    "# Лабораторная работа 1,Задание 1\n",
    "Нахождение с помощью расширенного фильтра Калмана(EKF) отслеживаие ориентации и положения робота по наблюдениям ( подбробности модели в условиях лабораторной работы lab1)"
   ]
  },
  {
   "cell_type": "code",
   "execution_count": 8,
   "id": "62668378",
   "metadata": {},
   "outputs": [],
   "source": [
    "# Радиусы колес\n",
    "B = 4\n",
    "# Шаг дискретизации\n",
    "T = 0.003\n",
    "# Угловые скорости колес\n",
    "W_L = 5\n",
    "W_R = 3\n",
    "#Коэфиценты для угловых скоростей\n",
    "a = 0.4\n",
    "c = 0.4\n",
    "# Угловые скорости колес\n",
    "def u_R(k): return a * (k*T);\n",
    "def u_L(k): return c * (k*T);\n",
    "# Линейные скорости колес\n",
    "def S_L(k): return W_L * u_L(k);\n",
    "def S_R(k): return W_R * u_R(k);\n",
    "# Скорость передвижения\n",
    "def s_t(k): return (S_L(k) + S_R(k))/2;\n",
    "# Скорость вращения\n",
    "def s_r(k): return (S_R(k) - S_L(k))/(2*B)\n",
    "# Функции движения\n",
    "def r_t(t): return (-0.5*  W_L *c* t * t+ 0.5 *W_R * a *t * t)/(2 *B)\n",
    "def x_t(t): return (W_L*c + W_R*a)*B*sin(((W_L*c - W_R*a)*t*t)/(4*B))/(W_L*c - W_R*a)\n",
    "def y_t(t): return -(-W_L*c - W_R*a)*cos(((W_L*c - W_R*a)*t*t)/(4*B))*B/(W_L*c - W_R*a)\n",
    "#Среднеквадратические отклонения шумов показаний\n",
    "sigma_r = 0.62\n",
    "sigma_x = 0.88\n",
    "sigma_y = 1.09"
   ]
  },
  {
   "cell_type": "markdown",
   "id": "dae3e3a5",
   "metadata": {},
   "source": [
    "Генерация истинной траектории дивжения"
   ]
  },
  {
   "cell_type": "code",
   "execution_count": 9,
   "id": "dd291466",
   "metadata": {},
   "outputs": [
    {
     "data": {
      "text/plain": [
       "[<matplotlib.lines.Line2D at 0x7fb710dd8250>]"
      ]
     },
     "execution_count": 9,
     "metadata": {},
     "output_type": "execute_result"
    },
    {
     "data": {
      "image/png": "[encoded data removed]",
      "text/plain": [
       "<Figure size 432x288 with 1 Axes>"
      ]
     },
     "metadata": {
      "needs_background": "light"
     },
     "output_type": "display_data"
    }
   ],
   "source": [
    "\n",
    "theta = np.arange(-5, -4, 0.0001)\n",
    "r = [r_t(q) for q in theta]\n",
    "x = [x_t(q) for q in theta]\n",
    "y = [y_t(q) for q in theta]\n",
    "\n",
    "fig1 = plt.figure(1)\n",
    "axes1 = fig1.subplots(1, 1)\n",
    "axes1.plot(x, y,label='parametric curve')"
   ]
  },
  {
   "cell_type": "markdown",
   "id": "2ec8b644",
   "metadata": {},
   "source": [
    "Генерация наблюдений "
   ]
  },
  {
   "cell_type": "code",
   "execution_count": 10,
   "id": "73b0f570",
   "metadata": {},
   "outputs": [],
   "source": [
    "theta = np.arange(-5, -4, T)\n",
    "Y = []\n",
    "for th in theta:\n",
    "    rr = r_t(th) +  np.random.normal(0, sigma_r)\n",
    "    xx = x_t(th) +  np.random.normal(0, sigma_x)\n",
    "    yy = y_t(th) +  np.random.normal(0, sigma_y)\n",
    "    Y.append(np.array([rr,xx,yy]))\n",
    "axes1.plot([j[1] for j in Y], [j[2] for j in Y], 'o', color='black',ms=1);\n"
   ]
  },
  {
   "cell_type": "code",
   "execution_count": 11,
   "id": "dc2b478c",
   "metadata": {},
   "outputs": [
    {
     "data": {
      "image/png": "[encoded data removed]",
      "text/plain": [
       "<Figure size 432x288 with 1 Axes>"
      ]
     },
     "execution_count": 11,
     "metadata": {},
     "output_type": "execute_result"
    }
   ],
   "source": [
    "fig1"
   ]
  },
  {
   "cell_type": "markdown",
   "id": "38c1ade5",
   "metadata": {},
   "source": [
    "Процедура расстановления координат по наблюдениям - Расширенный Фильтр Калмана"
   ]
  },
  {
   "cell_type": "code",
   "execution_count": 12,
   "id": "d9ee774e",
   "metadata": {
    "scrolled": true
   },
   "outputs": [],
   "source": [
    "\n",
    "m = []\n",
    "P = []\n",
    "m.append([r_t(-5),x_t(-5),y_t(-5)])\n",
    "P.append([[3,0,0],[0,3,0],[0,0,3]])\n",
    "for i in range(1,len(theta)):\n",
    "    k = theta[i-1]/T\n",
    "    m_ = np.array([m[i-1][0] + T * s_r(k), m[i-1][1] +  T * s_t(k)*cos(m[i-1][0])- T*T/2 *s_t(k) *s_r(k)*sin(m[i-1][0]),\n",
    "                   m[i-1][2] + T* s_t(k)*sin(m[i-1][0])+T*T /2 *s_t(k)*s_r(k)*cos(m[i-1][0])])\n",
    "    F_x = np.array([[1,0,-T*s_t(k) * sin (m[i-1][0]) -T*T /2 * s_t(k) *s_r(k) * cos(m[i-1][0])],\n",
    "          [0,1, T * s_t(k) *  cos(m[i-1][0]) - T*T/2 * s_t(k)*s_r(k) * sin(m[i-1][0])],\n",
    "          [0,0,1]])\n",
    "    H_x = np.array([[1,0,0],[0,1,0],[0,0,1]]);\n",
    "    p_ = np.dot(np.dot(F_x ,P[i-1]),  F_x.transpose())\n",
    "    S = np.dot(np.dot(H_x,p_),H_x.transpose())+ np.array([[sigma_r,0,0],[0,sigma_x,0],[0,0,sigma_y]])\n",
    "    K = np.dot(np.dot(p_ ,H_x.transpose()), np.linalg.inv(S))\n",
    "    v = Y[i]  - m_;\n",
    "    v = np.dot(K , v.transpose())\n",
    "    v = v.tolist();\n",
    "    m.append( m_  + v)\n",
    "    P.append(p_  - np.dot(np.dot(K ,S),K.transpose()))\n",
    "    "
   ]
  },
  {
   "cell_type": "code",
   "execution_count": 13,
   "id": "efb0323e",
   "metadata": {},
   "outputs": [
    {
     "data": {
      "text/plain": [
       "[<matplotlib.lines.Line2D at 0x7fb710d86220>]"
      ]
     },
     "execution_count": 13,
     "metadata": {},
     "output_type": "execute_result"
    }
   ],
   "source": [
    "X =[]\n",
    "for i in range(0,len(m)):\n",
    "    X.append(np.random.multivariate_normal(m[i],P[i]))\n",
    "x = [a[1] for a in X]\n",
    "y = [a[2] for a in X]\n",
    "axes1.plot(x, y,label='parametric curve')"
   ]
  },
  {
   "cell_type": "markdown",
   "id": "cd7cbaf8",
   "metadata": {},
   "source": [
    "Визуализация полученной траектории "
   ]
  },
  {
   "cell_type": "code",
   "execution_count": 14,
   "id": "11d4be95",
   "metadata": {},
   "outputs": [
    {
     "data": {
      "image/png": "[encoded data removed]",
      "text/plain": [
       "<Figure size 432x288 with 1 Axes>"
      ]
     },
     "execution_count": 14,
     "metadata": {},
     "output_type": "execute_result"
    }
   ],
   "source": [
    "fig1"
   ]
  },
  {
   "cell_type": "code",
   "execution_count": null,
   "id": "88af2c8e",
   "metadata": {},
   "outputs": [],
   "source": []
  },
  {
   "cell_type": "code",
   "execution_count": null,
   "id": "001cd767",
   "metadata": {},
   "outputs": [],
   "source": []
  }
 ],
 "metadata": {
  "kernelspec": {
   "display_name": "Python 3 (ipykernel)",
   "language": "python",
   "name": "python3"
  },
  "language_info": {
   "codemirror_mode": {
    "name": "ipython",
    "version": 3
   },
   "file_extension": ".py",
   "mimetype": "text/x-python",
   "name": "python",
   "nbconvert_exporter": "python",
   "pygments_lexer": "ipython3",
   "version": "3.8.10"
  }
 },
 "nbformat": 4,
 "nbformat_minor": 5
}
